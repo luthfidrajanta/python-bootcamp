{
 "cells": [
  {
   "cell_type": "code",
   "execution_count": 1,
   "id": "85e84f33",
   "metadata": {
    "execution": {
     "iopub.execute_input": "2022-02-19T10:42:19.514337Z",
     "iopub.status.busy": "2022-02-19T10:42:19.508981Z",
     "iopub.status.idle": "2022-02-19T10:42:19.530227Z",
     "shell.execute_reply": "2022-02-19T10:42:19.529020Z",
     "shell.execute_reply.started": "2022-02-19T10:41:41.922284Z"
    },
    "papermill": {
     "duration": 0.030708,
     "end_time": "2022-02-19T10:42:19.530638",
     "exception": false,
     "start_time": "2022-02-19T10:42:19.499930",
     "status": "completed"
    },
    "tags": []
   },
   "outputs": [
    {
     "name": "stdout",
     "output_type": "stream",
     "text": [
      "Hello World Python\n",
      "\n",
      "==========================================================================================================================================================\n",
      "Penjumlahan 1+1= 2\n",
      "Pengurangan 1-1= 0\n",
      "Perkalian 1x1= 1\n",
      "Pembagian 1:1= 1.0\n",
      "\n",
      "==========================================================================================================================================================\n",
      "int 3:6= 0\n",
      "float 3:6= 0.5\n",
      "\n",
      "==========================================================================================================================================================\n",
      "Hello sanbercode, saya Luthfi Drajanta! saya siap belajar python data science dasar\n",
      "\n",
      "==========================================================================================================================================================\n",
      "usiaku: 25tahun\n",
      "\n",
      "==========================================================================================================================================================\n"
     ]
    }
   ],
   "source": [
    "#<h2>Soal 1: Hello World to Python</h2>\n",
    "    \n",
    "#Print Say Hello World to Python\n",
    "\n",
    "print (\"Hello World Python\")\n",
    "\n",
    "print('\\n==========================================================================================================================================================')\n",
    "\n",
    "#<h2>Soal 2: Aritmatika di Python </h2>\n",
    "    \n",
    "#- Buat statement pertambahan antara 2 number di Python\n",
    "#- Buat statement perkurangan antara 2 number di Python\n",
    "#- Buat statement perkalian antara 2 number di Python\n",
    "#- Buat statement pembagian antara 2 number di Python\n",
    "\n",
    "print (\"Penjumlahan 1+1=\",1+1)\n",
    "print (\"Pengurangan 1-1=\",1-1)\n",
    "print (\"Perkalian 1x1=\",1*1)\n",
    "print (\"Pembagian 1:1=\",1/1)\n",
    "\n",
    "print('\\n==========================================================================================================================================================')\n",
    "\n",
    "#<h2>Quiz 3: Assign Variable dan Tipe Data Integer, Float </h2>\n",
    "\n",
    "#- Buat suatu variabel a dan b, dimana a dan b adalah nilai bertipe data numeric\n",
    "#- Berikan suatu nilai bertipe data integer, hasil pembagian dari a dengan b\n",
    "#- Berikan suatu nilai bertipe data float, hasil pembagian dari a dengan b\n",
    "\n",
    "a=3\n",
    "b=6\n",
    "print(\"int 3:6=\", int(a/b))\n",
    "print(\"float 3:6=\", float(a/b))\n",
    "\n",
    "print('\\n==========================================================================================================================================================')\n",
    "\n",
    "#<h2>Soal 4: String Operation </h2>\n",
    "\n",
    "#- masukan nama depan kamu kedalam suatu variable firstname\n",
    "#- masukan nama belakang kamu kedalam suatu variable lastname\n",
    "#- tampilkan suatu kalimat 'Hello sanbercode, saya firstname lastname! saya siap belajar python data science dasar.'\n",
    "\n",
    "firstname=\"Luthfi\"\n",
    "lastname=\"Drajanta\"\n",
    "print(\"Hello sanbercode, saya \" + firstname + \" \" + lastname + \"! saya siap belajar python data science dasar\" )\n",
    "\n",
    "print('\\n==========================================================================================================================================================')\n",
    "\n",
    "#<h2>Soal 5: Tipe Data</h2>\n",
    "\n",
    "#Lengkapi code di bawah ini untuk menghasilkan output yang sesuai\n",
    "\n",
    "usia = 25\n",
    "kata = 'usiaku: '\n",
    "print(kata +str(usia)+'tahun')\n",
    "\n",
    "print('\\n==========================================================================================================================================================')"
   ]
  },
  {
   "cell_type": "code",
   "execution_count": null,
   "id": "37eac378",
   "metadata": {
    "papermill": {
     "duration": 0.004764,
     "end_time": "2022-02-19T10:42:19.542928",
     "exception": false,
     "start_time": "2022-02-19T10:42:19.538164",
     "status": "completed"
    },
    "tags": []
   },
   "outputs": [],
   "source": []
  }
 ],
 "metadata": {
  "kernelspec": {
   "display_name": "Python 3",
   "language": "python",
   "name": "python3"
  },
  "language_info": {
   "codemirror_mode": {
    "name": "ipython",
    "version": 3
   },
   "file_extension": ".py",
   "mimetype": "text/x-python",
   "name": "python",
   "nbconvert_exporter": "python",
   "pygments_lexer": "ipython3",
   "version": "3.7.12"
  },
  "papermill": {
   "default_parameters": {},
   "duration": 11.691765,
   "end_time": "2022-02-19T10:42:20.460367",
   "environment_variables": {},
   "exception": null,
   "input_path": "__notebook__.ipynb",
   "output_path": "__notebook__.ipynb",
   "parameters": {},
   "start_time": "2022-02-19T10:42:08.768602",
   "version": "2.3.3"
  }
 },
 "nbformat": 4,
 "nbformat_minor": 5
}
