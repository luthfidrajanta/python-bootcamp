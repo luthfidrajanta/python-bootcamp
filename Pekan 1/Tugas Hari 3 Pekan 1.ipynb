{
 "cells": [
  {
   "cell_type": "markdown",
   "metadata": {
    "id": "I6jmLA-RYrt5"
   },
   "source": [
    "<h2>Soal 1: Helper Function</h2>\n",
    "\n",
    "Jawab Pertanyaan di bawah ini:\n",
    "\n",
    "Misalkan kamu ingin mengetahui tentang kegunaan fungsi 'len' di Python, maka fungsi apa yang bisa kamu gunakan untuk menolong kamu?"
   ]
  },
  {
   "cell_type": "code",
   "execution_count": 1,
   "metadata": {
    "id": "VrvyQxGJYrt9"
   },
   "outputs": [
    {
     "name": "stdout",
     "output_type": "stream",
     "text": [
      "Help on built-in function len in module builtins:\n",
      "\n",
      "len(obj, /)\n",
      "    Return the number of items in a container.\n",
      "\n",
      "None\n",
      "10\n"
     ]
    }
   ],
   "source": [
    "# lengkapi code ini\n",
    "print(help(len))\n",
    "\n",
    "a = \"Radio Gaga\"\n",
    "print (len(a))"
   ]
  },
  {
   "cell_type": "markdown",
   "metadata": {
    "id": "KrcuFTuAYruT"
   },
   "source": [
    "<h2>Soal 2: Built-in Function</h2>\n",
    "\n",
    "Jawab Pertanyaan di bawah ini:\n",
    "    \n",
    "Apa itu built-in Function?\n",
    "\n",
    "Sebutkan 3 built-in Function di pyhon!\n",
    "\n",
    "Berikan contoh masing2 1 cara penggunaan built-in function yang kamu sebutkan sebelumnya"
   ]
  },
  {
   "cell_type": "markdown",
   "metadata": {
    "id": "xro-58_CYruW"
   },
   "source": [
    "//isi jawaban text disini\n",
    "\n"
   ]
  },
  {
   "cell_type": "code",
   "execution_count": 2,
   "metadata": {
    "id": "Xv7lHkgfYruY"
   },
   "outputs": [
    {
     "name": "stdout",
     "output_type": "stream",
     "text": [
      "Fungsi Bawaan dari Python\n",
      "len(), int(), float()\n",
      "Contoh built in function len()\n",
      "10\n",
      "Contoh built in function int\n",
      "666\n",
      "Contoh built in function float\n",
      "666.0\n"
     ]
    }
   ],
   "source": [
    "# Contoh penggunaan built in function\n",
    "print (\"Fungsi Bawaan dari Python\")\n",
    "print (\"len(), int(), float()\")\n",
    "\n",
    "x=666\n",
    "print (\"Contoh built in function len()\")\n",
    "print (len(a))\n",
    "\n",
    "print (\"Contoh built in function int\")\n",
    "print (int(x))\n",
    "\n",
    "print (\"Contoh built in function float\")\n",
    "print (float(x))"
   ]
  },
  {
   "cell_type": "markdown",
   "metadata": {
    "id": "yhWXiPNDYrul"
   },
   "source": [
    "<h2>Soal 3: Method dan Function</h2>\n",
    "\n",
    "Jawab Pertanyaan di bawah ini:\n",
    "    \n",
    "- Apa perbedaan method dan function?"
   ]
  },
  {
   "cell_type": "markdown",
   "metadata": {
    "id": "rqpTJlgDYrun"
   },
   "source": []
  },
  {
   "cell_type": "code",
   "execution_count": 21,
   "metadata": {},
   "outputs": [
    {
     "name": "stdout",
     "output_type": "stream",
     "text": [
      "\n",
      " Method adalah suatu fungsi yang dimiliki oleh suatu object.\n",
      "\n",
      " Fungsi adalah blok kode terorganisir dan dapat digunakan kembali yang digunakan untuk melakukan sebuah tindakan/action.\n"
     ]
    }
   ],
   "source": [
    "print('\\n Method adalah suatu fungsi yang dimiliki oleh suatu object.')\n",
    "print('\\n Fungsi adalah blok kode terorganisir dan dapat digunakan kembali yang digunakan untuk melakukan sebuah tindakan/action.')"
   ]
  },
  {
   "cell_type": "markdown",
   "metadata": {
    "id": "tUU1xgYBYrup"
   },
   "source": [
    "<h2>Soal 4: Menggunkan Method String</h2>\n",
    "\n",
    "Lengkapi kode untuk menghasilkan suatu output yang di harapkan"
   ]
  },
  {
   "cell_type": "code",
   "execution_count": 3,
   "metadata": {
    "id": "037gauOGYrur"
   },
   "outputs": [
    {
     "name": "stdout",
     "output_type": "stream",
     "text": [
      "AYO BELAJAR DATA SCIENCE\n",
      "5\n"
     ]
    }
   ],
   "source": [
    "kalimat = \"ayo belajar data science\"\n",
    "\n",
    "# gunakan method untuk mengubah nilai kalimat menjadi uppercase semua kemudian tampilkan hasilnya\n",
    "print(kalimat.upper())\n",
    "\n",
    "# gunakan method untuk menghitung berapa huruf a di dalam kalimat\n",
    "print(kalimat.count('a'))"
   ]
  },
  {
   "cell_type": "markdown",
   "metadata": {
    "id": "fPTd4R5VYru5"
   },
   "source": [
    "Expected Output:\n",
    "\n",
    "AYO BELAJAR DATA SCIENCE\n",
    "\n",
    "5"
   ]
  },
  {
   "cell_type": "markdown",
   "metadata": {
    "id": "IPjp5vwDYrvL"
   },
   "source": [
    "<h2>Soal 5: Membuat Simple Function</h2>\n",
    "\n",
    "Buatlah suatu fungsi yang menerima satu input argumen berbentuk list dan mempunyai elemen bertipe numeric semua, dimana fungsi tersebut berguna untuk menghitung rata2 dari kumpulan elemen list tersebut. namai fungsi tersebut 'mean_list'"
   ]
  },
  {
   "cell_type": "code",
   "execution_count": 4,
   "metadata": {
    "id": "5KZg_AJUF9sK"
   },
   "outputs": [
    {
     "name": "stdout",
     "output_type": "stream",
     "text": [
      "12.39\n"
     ]
    }
   ],
   "source": [
    "obj_list = [11.25, 18.0, 20.0, 10.75, 9.50, 13.45, 23.0, 7.0, 8.45, 2.50]\n",
    "def mean_list(inp_list):\n",
    "    \n",
    "    a=sum(obj_list)\n",
    "    b=len(obj_list)\n",
    "    return(a/b)\n",
    "\n",
    "print(mean_list(obj_list))"
   ]
  },
  {
   "cell_type": "markdown",
   "metadata": {
    "id": "MVAvoHHgYrva"
   },
   "source": [
    "Expected Output:\n",
    "\n",
    "12.39"
   ]
  },
  {
   "cell_type": "markdown",
   "metadata": {
    "id": "A8jjpNC8Yrvc"
   },
   "source": [
    "<h2>Soal 6: Membuat Function dengan Multiple arguments</h2>\n",
    "\n",
    "Buatlah suatu fungsi untuk melakukan penggabungan antara dua list "
   ]
  },
  {
   "cell_type": "code",
   "execution_count": 5,
   "metadata": {
    "id": "gMWsoMw7G4s4"
   },
   "outputs": [
    {
     "name": "stdout",
     "output_type": "stream",
     "text": [
      "[1, 2, 3, 4, 5, 6, 7]\n"
     ]
    }
   ],
   "source": [
    "obj_list = [1, 2, 3, 4]\n",
    "obj_penambah = [5, 6, 7]\n",
    "\n",
    "def kali_list(inp_list1, inp_list2):\n",
    "    \n",
    "    obj_list.extend(obj_penambah)\n",
    "    return obj_list\n",
    "\n",
    "print(kali_list(obj_list, obj_penambah))"
   ]
  },
  {
   "cell_type": "markdown",
   "metadata": {
    "id": "RYhU921kYrvp"
   },
   "source": [
    "Expected Output:\n",
    "\n",
    "\n",
    "[1, 2, 3, 4, 5, 6, 7]"
   ]
  },
  {
   "cell_type": "markdown",
   "metadata": {
    "id": "n4vXAQs4G9_s"
   },
   "source": [
    "# Soal 7. Mapping Fungsi lambda\n",
    "\n",
    "Hitunglah jumlah bilangan genap dari sebuah objek list berikut menggunakan lambda function"
   ]
  },
  {
   "cell_type": "code",
   "execution_count": 20,
   "metadata": {
    "id": "fKZSTDb9NdIZ"
   },
   "outputs": [
    {
     "name": "stdout",
     "output_type": "stream",
     "text": [
      "500\n"
     ]
    }
   ],
   "source": [
    "obj_list = [i for i in range(1000)]\n",
    "\n",
    "hasil = sum(map(lambda x:x%2==0, obj_list))\n",
    "\n",
    "print(hasil)"
   ]
  },
  {
   "cell_type": "markdown",
   "metadata": {
    "id": "vEj-AttRNWuZ"
   },
   "source": [
    "Expected output:\n",
    "\n",
    "500"
   ]
  }
 ],
 "metadata": {
  "colab": {
   "collapsed_sections": [],
   "name": "Tugas Hari 3.ipynb",
   "provenance": []
  },
  "kernelspec": {
   "display_name": "Python 3 (ipykernel)",
   "language": "python",
   "name": "python3"
  },
  "language_info": {
   "codemirror_mode": {
    "name": "ipython",
    "version": 3
   },
   "file_extension": ".py",
   "mimetype": "text/x-python",
   "name": "python",
   "nbconvert_exporter": "python",
   "pygments_lexer": "ipython3",
   "version": "3.9.7"
  }
 },
 "nbformat": 4,
 "nbformat_minor": 1
}
